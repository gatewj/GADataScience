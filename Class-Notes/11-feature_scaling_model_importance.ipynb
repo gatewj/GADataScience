{
 "metadata": {
  "name": "",
  "signature": "sha256:5bfa2c41117defa6e32c7aec94a0870ac58c3762c536c86fb9dc2d7b2292d226"
 },
 "nbformat": 3,
 "nbformat_minor": 0,
 "worksheets": [
  {
   "cells": [
    {
     "cell_type": "heading",
     "level": 1,
     "metadata": {},
     "source": [
      "Feature Scaling and Model Evaluation"
     ]
    },
    {
     "cell_type": "heading",
     "level": 2,
     "metadata": {},
     "source": [
      "Objectives"
     ]
    },
    {
     "cell_type": "markdown",
     "metadata": {},
     "source": [
      "* Learn and implement different approaches to feature scaling, and when to use it\n",
      "* Building some grasp of when to use what machine learning algorithm\n",
      "* Apply model evaluation skills to a difficut data set"
     ]
    },
    {
     "cell_type": "heading",
     "level": 2,
     "metadata": {},
     "source": [
      "Data Objectives"
     ]
    },
    {
     "cell_type": "markdown",
     "metadata": {},
     "source": [
      "We'll be working with a dataset that can be difficult to accurately predict! We'll learn why it's important to go beyond just using accuracy when working in classification problems, hypothesize some approaches to working with the features we have, and have a discussion on what are we gaining versus losing."
     ]
    },
    {
     "cell_type": "heading",
     "level": 2,
     "metadata": {},
     "source": [
      "Class Notes"
     ]
    },
    {
     "cell_type": "markdown",
     "metadata": {},
     "source": [
      "### The Data\n",
      "\n",
      "Included in the repository today is a used car sale data set. Many features relate to cost, though they are all defined in the data dictionary here:"
     ]
    },
    {
     "cell_type": "code",
     "collapsed": false,
     "input": [
      "lines = open('../data/lemons_description.txt')\n",
      "for line in lines:\n",
      "    print line.strip()"
     ],
     "language": "python",
     "metadata": {},
     "outputs": [
      {
       "output_type": "stream",
       "stream": "stdout",
       "text": [
        "Field Name                          Definition\n",
        "RefID                               Unique (sequential) number assigned to vehicles\n",
        "IsBadBuy                            Identifies if the kicked vehicle was an avoidable purchase\n",
        "PurchDate                           The Date the vehicle was Purchased at Auction\n",
        "Auction                             Auction provider at which the  vehicle was purchased\n",
        "VehYear                             The manufacturer's year of the vehicle\n",
        "VehicleAge                          The Years elapsed since the manufacturer's year\n",
        "Make                                Vehicle Manufacturer\n",
        "Model                               Vehicle Model\n",
        "Trim                                Vehicle Trim Level\n",
        "Submodel                            Vehicle Submodel\n",
        "Color                               Vehicle Color\n",
        "Transmission                        Vehicles transmission type (Automatic, Manual)\n",
        "WheelTypeID                         The type id of the vehicle wheel\n",
        "WheelType                           The vehicle wheel type description (Alloy, Covers)\n",
        "VehOdo                              The vehicles odometer reading\n",
        "Nationality                         The Manufacturer's country\n",
        "Size                                The size category of the vehicle (Compact, SUV, etc.)\n",
        "TopThreeAmericanName                Identifies if the manufacturer is one of the top three American manufacturers\n",
        "MMRAcquisitionAuctionAveragePrice   Acquisition price for this vehicle in average condition at time of purchase\n",
        "MMRAcquisitionAuctionCleanPrice     Acquisition price for this vehicle in the above Average condition at time of purchase\n",
        "MMRAcquisitionRetailAveragePrice    Acquisition price for this vehicle in the retail market in average condition at time of purchase\n",
        "MMRAcquisitonRetailCleanPrice       Acquisition price for this vehicle in the retail market in above average condition at time of purchase\n",
        "MMRCurrentAuctionAveragePrice       Acquisition price for this vehicle in average condition as of current day\n",
        "MMRCurrentAuctionCleanPrice         Acquisition price for this vehicle in the above condition as of current day\n",
        "MMRCurrentRetailAveragePrice        Acquisition price for this vehicle in the retail market in average condition as of current day\n",
        "MMRCurrentRetailCleanPrice          Acquisition price for this vehicle in the retail market in above average condition as of current day\n",
        "PRIMEUNIT                           Identifies if the vehicle would have a higher demand than a standard purchase\n",
        "AcquisitionType                     Identifies how the vehicle was aquired (Auction buy, trade in, etc)\n",
        "AUCGUART                            The level guarntee provided by auction for the vehicle (Green light - Guaranteed/arbitratable, Yellow Light - caution/issue, red light - sold as is)\n",
        "KickDate                            Date the vehicle was kicked back to the auction\n",
        "BYRNO                               Unique number assigned to the buyer that purchased the vehicle\n",
        "VNZIP                               Zipcode where the car was purchased\n",
        "VNST                                State where the the car was purchased\n",
        "VehBCost                            Acquisition cost paid for the vehicle at time of purchase\n",
        "IsOnlineSale                        Identifies if the vehicle was originally purchased online\n",
        "WarrantyCost                        Warranty price (term=36month  and millage=36K)\n"
       ]
      }
     ],
     "prompt_number": 2
    },
    {
     "cell_type": "code",
     "collapsed": false,
     "input": [
      "import pandas as pd\n",
      "from sklearn import tree\n",
      "from sklearn.cross_validation import cross_val_score\n",
      "\n",
      "# Load in data and create sets. dropping all na columns on the live data set.\n",
      "lemons = pd.read_csv('../data/lemons.csv')\n",
      "lemons_oos = pd.read_csv('../data/lemons_oos.csv')\n",
      "print lemons.dtypes"
     ],
     "language": "python",
     "metadata": {},
     "outputs": [
      {
       "output_type": "stream",
       "stream": "stdout",
       "text": [
        "RefId                                  int64\n",
        "IsBadBuy                               int64\n",
        "PurchDate                             object\n",
        "Auction                               object\n",
        "VehYear                                int64\n",
        "VehicleAge                             int64\n",
        "Make                                  object\n",
        "Model                                 object\n",
        "Trim                                  object\n",
        "SubModel                              object\n",
        "Color                                 object\n",
        "Transmission                          object\n",
        "WheelTypeID                          float64\n",
        "WheelType                             object\n",
        "VehOdo                                 int64\n",
        "Nationality                           object\n",
        "Size                                  object\n",
        "TopThreeAmericanName                  object\n",
        "MMRAcquisitionAuctionAveragePrice    float64\n",
        "MMRAcquisitionAuctionCleanPrice      float64\n",
        "MMRAcquisitionRetailAveragePrice     float64\n",
        "MMRAcquisitonRetailCleanPrice        float64\n",
        "MMRCurrentAuctionAveragePrice        float64\n",
        "MMRCurrentAuctionCleanPrice          float64\n",
        "MMRCurrentRetailAveragePrice         float64\n",
        "MMRCurrentRetailCleanPrice           float64\n",
        "PRIMEUNIT                             object\n",
        "AUCGUART                              object\n",
        "BYRNO                                  int64\n",
        "VNZIP1                                 int64\n",
        "VNST                                  object\n",
        "VehBCost                             float64\n",
        "IsOnlineSale                           int64\n",
        "WarrantyCost                           int64\n",
        "dtype: object\n"
       ]
      }
     ],
     "prompt_number": 3
    },
    {
     "cell_type": "markdown",
     "metadata": {},
     "source": [
      "Below includes a very simple \"benchmark\" script. One common test we'd want to consider for model evaluation is if we can do better than random, which we can use the sklearn DummyClassifier to do."
     ]
    },
    {
     "cell_type": "code",
     "collapsed": false,
     "input": [
      "lemons = lemons.dropna(axis=1)\n",
      "# Generating a list of continuous data features from the describe dataframe. \n",
      "# Then, removing the two non-features (RefId is an index, IsBadBuy is the prediction value)\n",
      "features = list(lemons.describe().columns)\n",
      "features.remove('RefId')\n",
      "features.remove('IsBadBuy')\n",
      "\n",
      "best_score = -1\n",
      "for depth in range(1, 10):\n",
      "    scores = cross_val_score(tree.DecisionTreeClassifier(max_depth=depth, random_state=1234),\n",
      "                                lemons[features],\n",
      "                                lemons.IsBadBuy,\n",
      "                                scoring='roc_auc',\n",
      "                                cv=5)\n",
      "    if scores.mean() > best_score:\n",
      "        best_depth = depth\n",
      "        best_score = scores.mean()\n",
      "\n",
      "# Is the best score we have better than each DummyClassifier type?\n",
      "from sklearn import dummy, metrics\n",
      "for strat in ['stratified', 'most_frequent', 'uniform']:\n",
      "    dummyclf = dummy.DummyClassifier(strategy=strat).fit(lemons[features], lemons.IsBadBuy)\n",
      "    print 'did better than %s?' % strat, metrics.roc_auc_score(lemons.IsBadBuy, dummyclf.predict(lemons[features])) < best_score\n",
      "\n",
      "# seems so!\n",
      "\n",
      "# Create a classifier and prediction.\n",
      "clf = tree.DecisionTreeClassifier(max_depth=depth, random_state=1234).fit(lemons[features], lemons.IsBadBuy)\n",
      "\n",
      "y_pred = clf.predict(lemons_oos[features])\n",
      "\n",
      "# Create a submission\n",
      "submission = pd.DataFrame({ 'RefId' : lemons_oos.RefId, 'prediction' : y_pred })\n",
      "submission.to_csv('submission.csv')"
     ],
     "language": "python",
     "metadata": {},
     "outputs": [
      {
       "output_type": "stream",
       "stream": "stdout",
       "text": [
        "did better than stratified? True\n",
        "did better than most_frequent? True\n",
        "did better than uniform? True\n"
       ]
      }
     ],
     "prompt_number": 6
    },
    {
     "cell_type": "markdown",
     "metadata": {},
     "source": [
      "This is a good start for us!\n",
      "\n",
      "In order for us to work on improving this model, we'll have to continue exploring the data set available, impute missing values, create new features, and scale numerical values. "
     ]
    },
    {
     "cell_type": "markdown",
     "metadata": {},
     "source": [
      "### Feature Scaling\n",
      "\n",
      "Feature scaling can play a significant role in the performance of our model. Many of the techniques that follow are typically more applicable to algorithms were the algorithm is less dependent on learning weights; in particular, for classifiers. \n",
      "\n",
      "### Zeroing on the mean / Centering a feature\n",
      "\n",
      "One common technique is to subtract the mean away from all values in a feature. This effectively \"zeroes\" the feature, and is easier for the model to assert the normal centers of the data as being the same.\n",
      "\n",
      "$x^` = x - mean(x)$\n",
      "\n",
      "\n",
      "### Normalizing the feature\n",
      "\n",
      "Another common technique takes the above one step further: not only do we center the data on 0, but then provide a scope for the data to reside in (either -1 to 1, or 0 to 1, are typical). Normalizing the fe\n",
      "\n",
      "**Normalizing to 0 and 1 (where 0 remains 0)**\n",
      "\n",
      "$x^` = \\dfrac{x_0}{max(x)}$\n",
      "\n",
      "\n",
      "**Normalizing to 0 and 1 (where min == 0)**\n",
      "\n",
      "$x^` = \\dfrac{x_0 - min(x)}{max(x) - min(x))}$\n",
      "\n",
      "**Normalizing to -1 and 1 (where mean == 0)**\n",
      "\n",
      "$x^` = \\dfrac{x_0 - mean(x)}{max(x) - mean(x)}$\n",
      "\n",
      "**Standardization using mean and standard deviation (where mean = 0)**\n",
      "\n",
      "Standardization is a slightly different process for normalizing where our data splits are represented using standard deviations instead.\n",
      "\n",
      "$x^` = \\dfrac{x_0 - mean(x)}{std(x))}$\n",
      "\n",
      "### Practice: Writing python functions to handle these transformations\n",
      "\n",
      "Assuming the input of an array, how would we end up writing code to handle each of these transformations?"
     ]
    },
    {
     "cell_type": "code",
     "collapsed": false,
     "input": [
      "import numpy as np\n",
      "from __future__ import division\n",
      "class Transformations(object):\n",
      "    \"\"\"since these transformations are all related, we'll nest them all under a feature norm class\"\"\"\n",
      "    def mean_at_zero(self, arr):\n",
      "        return np.array([i - np.mean(arr) for i in arr])\n",
      "\n",
      "    def norm_to_min_zero(self, arr):\n",
      "        return np.array([i / max(arr) for i in arr])\n",
      "    \n",
      "    def norm_to_absolute_min_zero(self, arr):\n",
      "        \"\"\"should be a range of 0 to 1, where 0 maintains its 0 value\"\"\"\n",
      "    \n",
      "    def norm_to_neg_pos(self, arr):\n",
      "        \"\"\"should be a range of -1 to 1, where 0 represents the mean\"\"\"\n",
      "    \n",
      "    def norm_by_std(self, arr):\n",
      "        \"\"\"should be a range where 0 represents the mean\"\"\"\n",
      "\n",
      "## tests to make sure we built this correctly:\n",
      "transformer = Transformations()\n",
      "a = np.array([1.0, 2.0, 3.0, 4.0, 5.0])\n",
      "print transformer.mean_at_zero(a) == np.array([-2, -1, 0, 1, 2])\n",
      "print transformer.norm_to_min_zero(a) == np.array([0.2, 0.4, 0.6, 0.8, 1.0])\n",
      "print transformer.norm_to_absolute_min_zero(a) == np.array([0.0, 0.25, 0.5, 0.75, 1.0])\n",
      "print transformer.norm_to_neg_pos(a) == np.array([-1.0, -0.5, 0.0, 0.5, 1.0])\n",
      "print transformer.norm_by_std(a) == np.array([-1.414213562373095, -0.7071067811865475, 0.0, 0.7071067811865475, 1.414213562373095])\n"
     ],
     "language": "python",
     "metadata": {},
     "outputs": [
      {
       "output_type": "stream",
       "stream": "stdout",
       "text": [
        "[ True  True  True  True  True]\n",
        "[ True  True  True  True  True]\n",
        "False\n",
        "False\n",
        "False\n"
       ]
      },
      {
       "output_type": "stream",
       "stream": "stderr",
       "text": [
        "-c:28: FutureWarning: comparison to `None` will result in an elementwise object comparison in the future.\n",
        "-c:29: FutureWarning: comparison to `None` will result in an elementwise object comparison in the future.\n",
        "-c:30: FutureWarning: comparison to `None` will result in an elementwise object comparison in the future.\n"
       ]
      }
     ],
     "prompt_number": 7
    },
    {
     "cell_type": "markdown",
     "metadata": {},
     "source": [
      "Scikit learn has functions to also handle some of this:"
     ]
    },
    {
     "cell_type": "code",
     "collapsed": false,
     "input": [
      "from sklearn import preprocessing\n",
      "print a\n",
      "print preprocessing.scale(a, with_mean=True, with_std=False)\n",
      "print preprocessing.scale(a, with_mean=True, with_std=True)"
     ],
     "language": "python",
     "metadata": {},
     "outputs": [
      {
       "output_type": "stream",
       "stream": "stdout",
       "text": [
        "[ 1.  2.  3.  4.  5.]\n",
        "[-2. -1.  0.  1.  2.]\n",
        "[-1.41421356 -0.70710678  0.          0.70710678  1.41421356]\n"
       ]
      }
     ],
     "prompt_number": 8
    },
    {
     "cell_type": "markdown",
     "metadata": {},
     "source": [
      "### Solving Power Laws"
     ]
    },
    {
     "cell_type": "markdown",
     "metadata": {},
     "source": [
      "In class, we previously learned about linear transformations, particularly using log when we're looking at a log-log distribution.\n",
      "\n",
      "<img src='img/powerlaw.jpg'>\n",
      "\n",
      "However, transforming to log isn't always going to land us a perfect linear fit. Instead, we'd ideally like to solve for the power law, which is identifying a curve's amplitude and index. We can do this with one extra step: fitting a linear model to the log(10)-transformed data, optimizing against the error. scipy has a handy function to solve this for us.\n",
      "\n",
      "Another option could be to experiment with the [plfit](https://github.com/keflavich/plfit) library (not included in anaconda)."
     ]
    },
    {
     "cell_type": "code",
     "collapsed": false,
     "input": [
      "%matplotlib inline\n",
      "import scipy as sp\n",
      "import matplotlib.pyplot as plt\n",
      "import seaborn as sns\n",
      "\n",
      "class PowerLaw(object):\n",
      "    def fit(self, x, y, transform=True):\n",
      "        \"\"\"\n",
      "        returns back the amplitude and index of a powerlaw relationship.\n",
      "        assumes the data is not already log10 transformed.\n",
      "        return: [index, amp], also stored on the instance\n",
      "        \"\"\"\n",
      "        if transform:\n",
      "            x = np.log10(x)\n",
      "            y = np.log10(y)\n",
      "        # define our (line) fitting function and error function to optimize on\n",
      "        fitfunc = lambda p, x: p[0] + p[1] * x\n",
      "        errfunc = lambda p, x, y: (y - fitfunc(p, x))\n",
      "        # defines a starting point to optimize from.\n",
      "        p_init = [1.0, -1.0] \n",
      "        out = sp.optimize.leastsq(errfunc, p_init, args=(x, y), full_output=1)\n",
      "        result = out[0]\n",
      "        self.index = result[1]\n",
      "        self.amp = 10.0**result[0]\n",
      "        return np.array([self.amp, self.index])\n",
      "    \n",
      "    def transform(self, x):\n",
      "        \"\"\"returns the x-transformed data\"\"\"\n",
      "        return self.amp * (x**self.index)"
     ],
     "language": "python",
     "metadata": {},
     "outputs": [],
     "prompt_number": 13
    },
    {
     "cell_type": "code",
     "collapsed": false,
     "input": [
      "xdata=np.array([ 0.00010851,  0.00021701,  0.00043403,  0.00086806,  0.00173611, 0.00347222])\n",
      "ydata=np.array([ 29.56241016,  29.82245508,  25.33930469,  19.97075977,  12.61276074, 7.12695312])\n",
      "\n",
      "powerlaw = PowerLaw()\n",
      "powerlaw.fit(xdata, ydata)\n",
      "print 'amp:',powerlaw.amp, 'index', powerlaw.index\n",
      "\n",
      "sns.set_style('white')\n",
      "plt.figure()\n",
      "plt.subplot(2, 1, 1)\n",
      "plt.plot(xdata, powerlaw.transform(xdata))\n",
      "plt.plot(xdata, ydata)\n",
      "plt.text(0.0020, 30, 'Ampli = %5.2f' % powerlaw.amp)\n",
      "plt.text(0.0020, 25, 'Index = %5.2f' % powerlaw.index)\n",
      "plt.xlabel('X')\n",
      "plt.ylabel('Y')\n",
      "plt.subplot(2, 1, 2)\n",
      "plt.loglog(xdata, powerlaw.transform(xdata))\n",
      "plt.plot(xdata, ydata)\n",
      "plt.xlabel('X (log scale)')\n",
      "plt.ylabel('Y (log scale)')"
     ],
     "language": "python",
     "metadata": {},
     "outputs": [
      {
       "output_type": "stream",
       "stream": "stdout",
       "text": [
        "amp: 0.895599738306 index -0.409432655356\n"
       ]
      },
      {
       "metadata": {},
       "output_type": "pyout",
       "prompt_number": 15,
       "text": [
        "<matplotlib.text.Text at 0x10c628d50>"
       ]
      },
      {
       "metadata": {},
       "output_type": "display_data",
       "png": "[encoded data removed]",
       "text": [
        "<matplotlib.figure.Figure at 0x10a3ae390>"
       ]
      }
     ],
     "prompt_number": 15
    },
    {
     "cell_type": "markdown",
     "metadata": {},
     "source": [
      "### Reviewing Model performance"
     ]
    },
    {
     "cell_type": "markdown",
     "metadata": {},
     "source": [
      "We have introduce several different concepts in class to understanding model performance throughout the last few weeks; here is one primary location that we can refer to for regressions and classification problems.\n",
      "\n",
      "### Regressions\n",
      "\n",
      "**R-Squared**\n",
      "\n",
      "Definition: On (technically) a scale of 0 to 1, how well does this regression explain the variance in our data?  \n",
      "_note: can be negative if the regression model is inversely related, though this rarely occurs_\n",
      "\n",
      "math: $R^2=\\dfrac{SS_{res}}{SS_{tot}}$\n",
      "\n",
      "* we like this because: It's easily explainable on a scale, independent of what your y represents. very universal\n",
      "* we don't like this because: it doesn't actually represent any \"error\" amount\n",
      "\n",
      "**Root Mean Squared Error (RMSE)**\n",
      "\n",
      "Definition: The square root of the mean of the squared errors, where squared error = $(y_{true} - y_{pred})^{2}$\n",
      "\n",
      "math: $\\sqrt{\\dfrac{1}{n}\\sum(y_{true} - y_{pred})^{2}}$\n",
      "\n",
      "* we like this because: It represents error against the y units, unlike $R^2$, and punishes larger error\n",
      "* we don't like this because: if the scale of y changes dependent on the model, it's tough to compare results\n",
      "\n",
      "### Classification\n",
      "\n",
      "**Confusion Matrix**\n",
      "\n",
      "Definition: Given class labels, a true vs predicted label for all observations.\n",
      "\n",
      "\n",
      "<img src='img/confusion_matrix_metrics.png'/>\n",
      "\n",
      "* we like this because: It's the core object for solving for a variety of classification metrics\n",
      "* we don't like this because: we actually just like this\n",
      "* **business prop**: in a business decision, what's the value to error? How much is a true positive worth to a business vs a false positive or false negative? Consider weighting against some business goal.\n",
      "\n",
      "**Accuracy**\n",
      "\n",
      "Definition and math: $\\dfrac{TP + TN}{TP + TN + FP + FN}$\n",
      "\n",
      "* we like this because: It is a nice \"overall\" number to look at.\n",
      "\n",
      "**Misclassification Rate**\n",
      "\n",
      "Definition and math: $\\dfrac{FP + FN}{TP + TN + FP + FN}$\n",
      "\n",
      "* we like this because: it provides the 1 - accuracy value, a number we want to drive down\n",
      "\n",
      "\n",
      "**false positive rate (fpr)**\n",
      "\n",
      "Definition: The percent of the negatives were predicted as positive (how often is the predictor wrong on negatives?)\n",
      "\n",
      "Math: $\\dfrac{FP}{FP + FN}$\n",
      "\n",
      "**true positive rate/recall (tpr)**\n",
      "\n",
      "Definition: The percent of the positives were accurately measured as positives\n",
      "\n",
      "Math: $\\dfrac{TP}{TP + FN}$\n",
      "\n",
      "** ROC Curve and AUC**\n",
      "\n",
      "Definition: The area of a [1, 1] plot given the a line drawn from [0,0], [fpr, tpr], and [1, 1]\n",
      "\n",
      "Note there are two routes to go with using AUC in python:\n",
      "\n",
      "* **plotting classes**: calculate the roc using the binary class labels to gain a single point on the plot and visualize\n",
      "* **plotting scores/probalities**: calcuate the roc using the probalities for class $y_1$. Helpful to visualize when the data may not be weighted normally (a priori is not around .5)\n",
      "\n",
      "All of sklearn's model metrics are in the [sklearn metrics page](http://scikit-learn.org/stable/modules/classes.html#sklearn-metrics-metrics). Keep this around as a reference point so you know how to run the metrics you need to use!"
     ]
    },
    {
     "cell_type": "heading",
     "level": 2,
     "metadata": {},
     "source": [
      "Guided Practice"
     ]
    },
    {
     "cell_type": "markdown",
     "metadata": {},
     "source": [
      "Back to the data problem at hand!\n",
      "\n",
      "We'll start by working through an explain on each column in the dataset together as a class and come up with some ideas on how to handle each column."
     ]
    },
    {
     "cell_type": "code",
     "collapsed": false,
     "input": [
      "print lemons.groupby('Auction').Auction.count()\n",
      "print lemons.groupby('Auction').IsBadBuy.mean()\n",
      "\n",
      "# seems like the ADESA auction is particularly worse for bad buys (about 36% more)\n",
      "# it may help to create a new column that specically refers to \"is_adesa\"\n",
      "\n",
      "lemons['auct_adesa'] = lemons.Auction.apply(lambda x: 1 if x == 'ADESA' else 0)\n",
      "\n",
      "print lemons.groupby('auct_adesa').IsBadBuy.mean()"
     ],
     "language": "python",
     "metadata": {},
     "outputs": [
      {
       "output_type": "stream",
       "stream": "stdout",
       "text": [
        "Auction\n",
        "ADESA      10128\n",
        "MANHEIM    28645\n",
        "OTHER      12315\n",
        "Name: Auction, dtype: int64\n",
        "Auction\n",
        "ADESA      0.153732\n",
        "MANHEIM    0.114400\n",
        "OTHER      0.118149\n",
        "Name: IsBadBuy, dtype: float64\n",
        "auct_adesa\n",
        "0             0.115527\n",
        "1             0.153732\n",
        "Name: IsBadBuy, dtype: float64"
       ]
      },
      {
       "output_type": "stream",
       "stream": "stdout",
       "text": [
        "\n"
       ]
      }
     ],
     "prompt_number": 16
    },
    {
     "cell_type": "code",
     "collapsed": false,
     "input": [
      "print plt.hist(lemons.VehicleAge)\n",
      "\n",
      "print lemons.groupby('VehicleAge').IsBadBuy.mean()\n",
      "\n",
      "# there seems to be a stronger relationship with bad buys as vehicles are older.\n",
      "# is there anything we should do here?"
     ],
     "language": "python",
     "metadata": {},
     "outputs": [
      {
       "output_type": "stream",
       "stream": "stdout",
       "text": [
        "(array([  1.00000000e+00,   2.15900000e+03,   5.93600000e+03,\n",
        "         1.11580000e+04,   1.19690000e+04,   9.06400000e+03,\n",
        "         5.57700000e+03,   3.23400000e+03,   1.53200000e+03,\n",
        "         4.58000000e+02]), array([ 0. ,  0.9,  1.8,  2.7,  3.6,  4.5,  5.4,  6.3,  7.2,  8.1,  9. ]), <a list of 10 Patch objects>)\n",
        "VehicleAge\n",
        "0             0.000000\n",
        "1             0.044465\n",
        "2             0.062163\n",
        "3             0.083259\n",
        "4             0.110118\n",
        "5             0.146293\n",
        "6             0.180384\n",
        "7             0.219852\n",
        "8             0.253916\n",
        "9             0.316594\n",
        "Name: IsBadBuy, dtype: float64\n"
       ]
      },
      {
       "metadata": {},
       "output_type": "display_data",
       "png": "[encoded data removed]",
       "text": [
        "<matplotlib.figure.Figure at 0x10c754650>"
       ]
      }
     ],
     "prompt_number": 17
    },
    {
     "cell_type": "markdown",
     "metadata": {},
     "source": [
      "### Group Work\n",
      "\n",
      "1. Continue to parse through each column and determine relationships against IsBadBuy.\n",
      "    1. Is there missing data? How should it be imputed? What does the missing data mean?\n",
      "    2. Are there any clear relationships?\n",
      "    3. Do we need to be concerned with feature scaling?\n",
      "\n",
      "2. Generate a model in your group. The goal should be a cross validated model that, on average, performs better than the benchmark on the training data.\n",
      "3. Once you've created a model your team is comfortable with, generate a \"submission\" csv file on the out of sample data. Ed, Julia, and Pooja will post \"scores\" against the actual values for the out of sample data.\n",
      "\n",
      "Once you've done so, use the rest of the class today to work on your projects individually. Use this time to practice everything we learned today and to improve your project 2 for Monday."
     ]
    }
   ],
   "metadata": {}
  }
 ]
}